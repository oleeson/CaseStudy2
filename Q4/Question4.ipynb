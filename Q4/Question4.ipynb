{
 "cells": [
  {
   "cell_type": "markdown",
   "metadata": {
    "collapsed": true
   },
   "source": [
    "# Question 4 "
   ]
  },
  {
   "cell_type": "markdown",
   "metadata": {},
   "source": [
    "# # (i)"
   ]
  },
  {
   "cell_type": "markdown",
   "metadata": {},
   "source": [
    "Find the difference between the maximum and the minimum monthly average temperatures for each country and report/visualize top 20 countries with the maximum differences for the period since 1900."
   ]
  },
  {
   "cell_type": "code",
   "execution_count": 2,
   "metadata": {
    "collapsed": true
   },
   "outputs": [],
   "source": [
    "#import required libraries\n",
    "%matplotlib inline\n",
    "import pandas as pd\n",
    "from datetime import datetime,date\n",
    "import matplotlib.pyplot as plt\n",
    "import warnings\n",
    "warnings.filterwarnings(\"ignore\")"
   ]
  },
  {
   "cell_type": "code",
   "execution_count": 3,
   "metadata": {
    "collapsed": true
   },
   "outputs": [],
   "source": [
    "#read in temp csv as pandas frame\n",
    "temp = pd.read_csv('TEMP.csv')"
   ]
  },
  {
   "cell_type": "code",
   "execution_count": 4,
   "metadata": {
    "collapsed": false
   },
   "outputs": [
    {
     "data": {
      "text/html": [
       "<div>\n",
       "<table border=\"1\" class=\"dataframe\">\n",
       "  <thead>\n",
       "    <tr style=\"text-align: right;\">\n",
       "      <th></th>\n",
       "      <th>Date</th>\n",
       "      <th>MAverageTemp</th>\n",
       "      <th>MAverageTempUncertainty</th>\n",
       "      <th>Country</th>\n",
       "    </tr>\n",
       "  </thead>\n",
       "  <tbody>\n",
       "    <tr>\n",
       "      <th>0</th>\n",
       "      <td>1838-04-01</td>\n",
       "      <td>13.008</td>\n",
       "      <td>2.586</td>\n",
       "      <td>Afghanistan</td>\n",
       "    </tr>\n",
       "    <tr>\n",
       "      <th>1</th>\n",
       "      <td>1838-05-01</td>\n",
       "      <td>NaN</td>\n",
       "      <td>NaN</td>\n",
       "      <td>Afghanistan</td>\n",
       "    </tr>\n",
       "    <tr>\n",
       "      <th>2</th>\n",
       "      <td>1838-06-01</td>\n",
       "      <td>23.950</td>\n",
       "      <td>2.510</td>\n",
       "      <td>Afghanistan</td>\n",
       "    </tr>\n",
       "    <tr>\n",
       "      <th>3</th>\n",
       "      <td>1838-07-01</td>\n",
       "      <td>26.877</td>\n",
       "      <td>2.883</td>\n",
       "      <td>Afghanistan</td>\n",
       "    </tr>\n",
       "    <tr>\n",
       "      <th>4</th>\n",
       "      <td>1838-08-01</td>\n",
       "      <td>24.938</td>\n",
       "      <td>2.992</td>\n",
       "      <td>Afghanistan</td>\n",
       "    </tr>\n",
       "  </tbody>\n",
       "</table>\n",
       "</div>"
      ],
      "text/plain": [
       "         Date  MAverageTemp  MAverageTempUncertainty      Country\n",
       "0  1838-04-01        13.008                    2.586  Afghanistan\n",
       "1  1838-05-01           NaN                      NaN  Afghanistan\n",
       "2  1838-06-01        23.950                    2.510  Afghanistan\n",
       "3  1838-07-01        26.877                    2.883  Afghanistan\n",
       "4  1838-08-01        24.938                    2.992  Afghanistan"
      ]
     },
     "execution_count": 4,
     "metadata": {},
     "output_type": "execute_result"
    }
   ],
   "source": [
    "temp.head()"
   ]
  },
  {
   "cell_type": "markdown",
   "metadata": {},
   "source": [
    "Upon inspection of the dataframe, we notice that the TEMP.csv dates are coded either as %Y-&m-%d or as %m/%d/%y. This creates a tricky problem. We want to subset the data to dates after **1900**. Fortunately, all dates after 1900 are coded in the %m/%d/%y format. Therefore we can disregard the dates coded as %Y-&m-%d by simple string length. "
   ]
  },
  {
   "cell_type": "code",
   "execution_count": 5,
   "metadata": {
    "collapsed": true
   },
   "outputs": [],
   "source": [
    "#Create new data file with dates greater than 1900\n",
    "temp2 = temp[temp.Date.str.len() <= 8]"
   ]
  },
  {
   "cell_type": "code",
   "execution_count": 6,
   "metadata": {
    "collapsed": false
   },
   "outputs": [
    {
     "data": {
      "text/html": [
       "<div>\n",
       "<table border=\"1\" class=\"dataframe\">\n",
       "  <thead>\n",
       "    <tr style=\"text-align: right;\">\n",
       "      <th></th>\n",
       "      <th>Date</th>\n",
       "      <th>MAverageTemp</th>\n",
       "      <th>MAverageTempUncertainty</th>\n",
       "      <th>Country</th>\n",
       "    </tr>\n",
       "  </thead>\n",
       "  <tbody>\n",
       "    <tr>\n",
       "      <th>741</th>\n",
       "      <td>1/1/00</td>\n",
       "      <td>-3.428</td>\n",
       "      <td>0.936</td>\n",
       "      <td>Afghanistan</td>\n",
       "    </tr>\n",
       "    <tr>\n",
       "      <th>742</th>\n",
       "      <td>2/1/00</td>\n",
       "      <td>1.234</td>\n",
       "      <td>1.135</td>\n",
       "      <td>Afghanistan</td>\n",
       "    </tr>\n",
       "    <tr>\n",
       "      <th>743</th>\n",
       "      <td>3/1/00</td>\n",
       "      <td>10.545</td>\n",
       "      <td>0.933</td>\n",
       "      <td>Afghanistan</td>\n",
       "    </tr>\n",
       "    <tr>\n",
       "      <th>744</th>\n",
       "      <td>4/1/00</td>\n",
       "      <td>13.352</td>\n",
       "      <td>0.536</td>\n",
       "      <td>Afghanistan</td>\n",
       "    </tr>\n",
       "    <tr>\n",
       "      <th>745</th>\n",
       "      <td>5/1/00</td>\n",
       "      <td>20.260</td>\n",
       "      <td>0.524</td>\n",
       "      <td>Afghanistan</td>\n",
       "    </tr>\n",
       "  </tbody>\n",
       "</table>\n",
       "</div>"
      ],
      "text/plain": [
       "       Date  MAverageTemp  MAverageTempUncertainty      Country\n",
       "741  1/1/00        -3.428                    0.936  Afghanistan\n",
       "742  2/1/00         1.234                    1.135  Afghanistan\n",
       "743  3/1/00        10.545                    0.933  Afghanistan\n",
       "744  4/1/00        13.352                    0.536  Afghanistan\n",
       "745  5/1/00        20.260                    0.524  Afghanistan"
      ]
     },
     "execution_count": 6,
     "metadata": {},
     "output_type": "execute_result"
    }
   ],
   "source": [
    "temp2.head()"
   ]
  },
  {
   "cell_type": "markdown",
   "metadata": {},
   "source": [
    "Now we have the dates we want to solve this part of the problem (all dates after 1/1/1900)"
   ]
  },
  {
   "cell_type": "code",
   "execution_count": 7,
   "metadata": {
    "collapsed": true
   },
   "outputs": [],
   "source": [
    "#Group dataframe by Country\n",
    "tempgroup=temp2.groupby(\"Country\")"
   ]
  },
  {
   "cell_type": "code",
   "execution_count": 8,
   "metadata": {
    "collapsed": true
   },
   "outputs": [],
   "source": [
    "#Find the difference between the maximum and minimum average temperatures for each country\n",
    "tempgroup.tempdiff = tempgroup['MAverageTemp'].max() - tempgroup['MAverageTemp'].min()\n",
    "\n",
    "#Order the countries by temperature difference in descending order\n",
    "tempgroup.tempdiff = tempgroup.tempdiff.order(ascending=False)\n",
    "\n",
    "#Drop the NAs\n",
    "tempgroup.tempdiff = tempgroup.tempdiff.dropna()\n",
    "\n",
    "#Create an object containing only the top 20 temperature differences by country\n",
    "top20 = tempgroup.tempdiff[0:20]"
   ]
  },
  {
   "cell_type": "code",
   "execution_count": 9,
   "metadata": {
    "collapsed": false
   },
   "outputs": [
    {
     "data": {
      "text/plain": [
       "Country\n",
       "Kazakhstan      49.163\n",
       "Mongolia        48.010\n",
       "Russia          46.682\n",
       "Canada          43.532\n",
       "Uzbekistan      42.698\n",
       "Turkmenistan    40.579\n",
       "Belarus         39.338\n",
       "Finland         39.068\n",
       "Estonia         38.815\n",
       "Ukraine         38.660\n",
       "Kyrgyzstan      38.436\n",
       "North Korea     38.342\n",
       "Latvia          38.063\n",
       "Moldova         38.012\n",
       "Greenland       37.516\n",
       "Denmark         37.138\n",
       "Lithuania       36.970\n",
       "Tajikistan      35.829\n",
       "Poland          35.616\n",
       "Armenia         35.273\n",
       "Name: MAverageTemp, dtype: float64"
      ]
     },
     "execution_count": 9,
     "metadata": {},
     "output_type": "execute_result"
    }
   ],
   "source": [
    "#Report Top 20 Countries\n",
    "top20"
   ]
  },
  {
   "cell_type": "code",
   "execution_count": 10,
   "metadata": {
    "collapsed": false
   },
   "outputs": [
    {
     "data": {
      "text/plain": [
       "<matplotlib.axes._subplots.AxesSubplot at 0x10dbd9f90>"
      ]
     },
     "execution_count": 10,
     "metadata": {},
     "output_type": "execute_result"
    },
    {
     "data": {
      "image/png": "[encoded data removed]",
      "text/plain": [
       "<matplotlib.figure.Figure at 0x10dbd9d50>"
      ]
     },
     "metadata": {},
     "output_type": "display_data"
    }
   ],
   "source": [
    "#Plot the Countries with the greatest average temperature differences\n",
    "top20.plot.bar(color='purple', y = \"Temperature Difference\")"
   ]
  },
  {
   "cell_type": "markdown",
   "metadata": {},
   "source": [
    "We have successfully found the difference between the maximum and the minimum monthly average temperatures for each country and have reported and visualized top 20 countries with the maximum differences for the period since 1900."
   ]
  },
  {
   "cell_type": "markdown",
   "metadata": {},
   "source": [
    "# (ii)"
   ]
  },
  {
   "cell_type": "markdown",
   "metadata": {},
   "source": [
    "Select a subset of data and call it “UStemp” for US land temperatures starting from 01/01/1990 in Temp data. Use UStemp dataset to answer the following:\n"
   ]
  },
  {
   "cell_type": "markdown",
   "metadata": {},
   "source": [
    "* **SPECIAL NOTE** * We come across a major issue in dealing with the TEMP.csv file due to the format in which dates are coded. The dates 1/1/1900 and 1/1/2000 are both coded as \"1/1/00\" for all values through the 1900's. Dates automatically code as 1/1/2000 instead of the intended 1/1/1900. Due to this, in order to capture dates from 1/1/1990 and beyond, we must perform some a for-loop and other python magic in order to re-code all of the dates in the 1900s previously coded as 1/1/00 to 1/1/1900 so that we are reporting within the correct century. "
   ]
  },
  {
   "cell_type": "code",
   "execution_count": 11,
   "metadata": {
    "collapsed": false
   },
   "outputs": [
    {
     "name": "stdout",
     "output_type": "stream",
     "text": [
      "              Date  MAverageTemp  MAverageTempUncertainty        Country\n",
      "551641  1768-09-01        15.420                    2.880  United States\n",
      "551642  1768-10-01         8.162                    3.386  United States\n",
      "551643  1768-11-01         1.591                    3.783  United States\n",
      "551644  1768-12-01        -2.882                    4.979  United States\n",
      "551645  1769-01-01        -3.952                    4.856  United States\n"
     ]
    }
   ],
   "source": [
    "#We read in the TEMP.csv file again in order to extract the data for the United States\n",
    "tempforusa = pd.read_csv('Temp.csv')\n",
    "usa = tempforusa[tempforusa.Country == \"United States\"]\n",
    "print usa.head()\n",
    "\n",
    "#We save the USA subset locally in order to perform our for-loop separately\n",
    "usa.to_csv('usa.csv')"
   ]
  },
  {
   "cell_type": "markdown",
   "metadata": {},
   "source": [
    "Now that we have our CSV file of only data for the United States, we will run a program to parse all of the 1/1/00 dates in the 20th century to code them correctly. "
   ]
  },
  {
   "cell_type": "code",
   "execution_count": 12,
   "metadata": {
    "collapsed": true
   },
   "outputs": [],
   "source": [
    "import csv"
   ]
  },
  {
   "cell_type": "code",
   "execution_count": 13,
   "metadata": {
    "collapsed": true
   },
   "outputs": [],
   "source": [
    "#read in our csv fild as a csv.reader object \n",
    "usatemperature  = open('usa.csv', 'rb')\n",
    "reader = csv.reader(usatemperature)"
   ]
  },
  {
   "cell_type": "code",
   "execution_count": 14,
   "metadata": {
    "collapsed": true
   },
   "outputs": [],
   "source": [
    "#OUR SETUP for the FOR-Loop\n",
    "##This is messy. We use brute force to correct our csv file. \n",
    "\n",
    "#Create a list to save our full years\n",
    "fullyear =[]\n",
    "#Set variables to 0 for our counters. These counters will ensure that we are only changing\n",
    "#dates intended for the 1900s. Once the counter>12 we stop changing the date to \"1900\"\n",
    "a = 0\n",
    "b = 0\n",
    "c = 0\n",
    "d = 0\n",
    "e = 0\n",
    "f = 0\n",
    "g=0\n",
    "h=0\n",
    "j=0\n",
    "k=0\n",
    "l=0\n",
    "m=0\n",
    "n=0\n",
    "o=0\n",
    "#Our string of all years in the 1900s we will iterate through in our for loop\n",
    "st = ['/00', '/01', '/02', '/03', '/04', '/05', '/06', '/07', '/08', '/09', '/10',\n",
    " '/11', '/12', '/13', '/14', '/15', '/16', '/17', '/18',\n",
    " '/19', '/20', '/21', '/22', '/23', '/24', '/25', '/26', '/27', '/28', '/29',\n",
    " '/30', '/31', '/32', '/33', '/34', '/35', '/36', '/37', '/38', '/39', '/40',\n",
    " '/41', '/42', '/43', '/44', '/45', '/46', '/47', '/48', '/49', '/50', '/51',\n",
    " '/52', '/53', '/54', '/55', '/56', '/57', '/58', '/59', '/60', '/61', '/62',\n",
    " '/63', '/64', '/65', '/66', '/67', '/68', '/69', '/70', '/71', '/72', '/73',\n",
    " '/74', '/75', '/76', '/77', '/78', '/79', '/80', '/81', '/82', '/83', '/84',\n",
    " '/85', '/86', '/87', '/88', '/89', '/90', '/91', '/92', '/93', '/94', '/95',\n",
    " '/96', '/97', '/98', '/99']"
   ]
  },
  {
   "cell_type": "code",
   "execution_count": 15,
   "metadata": {
    "collapsed": true
   },
   "outputs": [],
   "source": [
    "#Our For Loop: \n",
    "#This loop will run through our USA.csv file, match all dates with format \"/xx\" and change\n",
    "#this 2digit year into the appropriate 4digit year\n",
    "#the years will be saved as strings in a list\n",
    "\n",
    "for row in reader:\n",
    "    for field in row:\n",
    "        for i in st:\n",
    "            if i in field:\n",
    "                if i == \"/00\":\n",
    "                    a = a + 1\n",
    "                    #print a\n",
    "                    if a >12:\n",
    "                        new = \"/20\"+i[1:3]\n",
    "                        fullyear.append(new)\n",
    "                        break\n",
    "                if i ==\"/01\":\n",
    "                    b = b + 1\n",
    "                    #print b\n",
    "                    if b >12:\n",
    "                        new = \"/20\"+i[1:3]\n",
    "                        fullyear.append(new)\n",
    "                        break\n",
    "                if i ==\"/02\":\n",
    "                    c = c + 1\n",
    "                    #print c\n",
    "                    if c >12:\n",
    "                        new = \"/20\"+i[1:3]\n",
    "                        fullyear.append(new)\n",
    "                        break\n",
    "                if i ==\"/03\":\n",
    "                    d = d + 1\n",
    "                    #print d\n",
    "                    if d >12:\n",
    "                        new = \"/20\"+i[1:3]\n",
    "                        fullyear.append(new)\n",
    "                        break\n",
    "                if i == \"/04\":\n",
    "                    e = e + 1\n",
    "                    #print e\n",
    "                    if e >12:\n",
    "                        new = \"/20\"+i[1:3]\n",
    "                        fullyear.append(new)\n",
    "                        break\n",
    "                if i == \"/05\":\n",
    "                    f = f + 1\n",
    "                    #print f\n",
    "                    if f >12:\n",
    "                        new = \"/20\"+i[1:3]\n",
    "                        fullyear.append(new)\n",
    "                        break\n",
    "                if i == \"/06\":\n",
    "                    g = g + 1\n",
    "                    #print g\n",
    "                    if g >12:\n",
    "                        new = \"/20\"+i[1:3]\n",
    "                        fullyear.append(new)\n",
    "                        break\n",
    "                if i == \"/07\":\n",
    "                    h = h + 1\n",
    "                    #print h\n",
    "                    if h >12:\n",
    "                        new = \"/20\"+i[1:3]\n",
    "                        fullyear.append(new)\n",
    "                        break\n",
    "                if i == \"/08\":\n",
    "                    j = j + 1\n",
    "                    #print j\n",
    "                    if j >12:\n",
    "                        new = \"/20\"+i[1:3]\n",
    "                        fullyear.append(new)\n",
    "                        break\n",
    "                if i == \"/09\":\n",
    "                    k = k + 1\n",
    "                    #print k\n",
    "                    if k >12:\n",
    "                        new = \"/20\"+i[1:3]\n",
    "                        fullyear.append(new)\n",
    "                        break\n",
    "                if i == \"/10\":\n",
    "                    l = l + 1\n",
    "                    #print l\n",
    "                    if l >12:\n",
    "                        new = \"/20\"+i[1:3]\n",
    "                        fullyear.append(new)\n",
    "                        break\n",
    "                if i == \"/11\":\n",
    "                    m = m + 1\n",
    "                    #print m\n",
    "                    if m >12:\n",
    "                        new = \"/20\"+i[1:3]\n",
    "                        fullyear.append(new)\n",
    "                        break\n",
    "                if i == \"/12\":\n",
    "                    n = n + 1\n",
    "                    #print n\n",
    "                    if n >12:\n",
    "                        new = \"/20\"+i[1:3]\n",
    "                        fullyear.append(new)\n",
    "                        break\n",
    "                if i == \"/13\":\n",
    "                    o = o + 1\n",
    "                    #print o\n",
    "                    if o >12:\n",
    "                        new = \"/20\"+i[1:3]\n",
    "                        fullyear.append(new)\n",
    "                        break\n",
    "                new = \"/19\"+i[1:3]\n",
    "                fullyear.append(new)"
   ]
  },
  {
   "cell_type": "code",
   "execution_count": 16,
   "metadata": {
    "collapsed": false
   },
   "outputs": [
    {
     "name": "stdout",
     "output_type": "stream",
     "text": [
      "['/1900', '/1900', '/1900', '/1900', '/1900', '/1900', '/1900', '/1900', '/1900', '/1900', '/1900', '/1900', '/1901', '/1901', '/1901', '/1901', '/1901', '/1901', '/1901', '/1901']\n"
     ]
    }
   ],
   "source": [
    "#Check to see the list has been created\n",
    "print fullyear[0:20]"
   ]
  },
  {
   "cell_type": "markdown",
   "metadata": {},
   "source": [
    "Now we have our list of appropriate years we will need to append these back to the appropriate months and dates! "
   ]
  },
  {
   "cell_type": "code",
   "execution_count": 23,
   "metadata": {
    "collapsed": true
   },
   "outputs": [],
   "source": [
    "#We save our list to a new csv file that we will call to append to our pandas dataframe\n",
    "myfile = open('fullyear.csv', 'wb')\n",
    "wr = csv.writer(myfile, quoting=csv.QUOTE_ALL)\n",
    "wr.writerow(fullyear)"
   ]
  },
  {
   "cell_type": "code",
   "execution_count": 24,
   "metadata": {
    "collapsed": true
   },
   "outputs": [],
   "source": [
    "#We now define a function to help us parse and ammend our dates\n",
    "#Please note that I did not create this function. I found this\n",
    "#function online as a tool for text parsing\n",
    "def find_nth(haystack, needle, n):\n",
    "    start = haystack.find(needle)\n",
    "    while start >= 0 and n > 1:\n",
    "        start = haystack.find(needle, start+len(needle))\n",
    "        n -= 1\n",
    "        return start"
   ]
  },
  {
   "cell_type": "markdown",
   "metadata": {},
   "source": [
    "WHEW! We are almost there. "
   ]
  },
  {
   "cell_type": "code",
   "execution_count": 25,
   "metadata": {
    "collapsed": true
   },
   "outputs": [],
   "source": [
    "#Read in our usa.csv file as a dataframe\n",
    "tempinusa = pd.read_csv('usa.csv')\n",
    "\n",
    "#Let's get rid of the 19th century as we have done before\n",
    "tempinusa = tempinusa[tempinusa.Date.str.len() <= 8]\n",
    "\n",
    "#We save the Date Series as a variable for easier iteration later \n",
    "save_Date = tempinusa.Date"
   ]
  },
  {
   "cell_type": "code",
   "execution_count": 26,
   "metadata": {
    "collapsed": true
   },
   "outputs": [],
   "source": [
    "#We also have to read in our new list of corrected years\n",
    "thenewdates = open('fullyear.csv', 'rb')\n",
    "reading = csv.reader(thenewdates)"
   ]
  },
  {
   "cell_type": "code",
   "execution_count": 27,
   "metadata": {
    "collapsed": true
   },
   "outputs": [],
   "source": [
    "#Now we have to create a list object for both the old and new dates\n",
    "#We start with the new dates from our csv\n",
    "newdatelist = []\n",
    "for row in reading:\n",
    "    for i in row:\n",
    "        newdatelist.append(i)"
   ]
  },
  {
   "cell_type": "code",
   "execution_count": 28,
   "metadata": {
    "collapsed": false
   },
   "outputs": [
    {
     "name": "stdout",
     "output_type": "stream",
     "text": [
      "1365\n"
     ]
    }
   ],
   "source": [
    "print len(newdatelist)\n",
    "\n",
    "### IF LEN(NEWDATELIST) is not equal to 1365 please return and run the above: \n",
    "#myfile = open('fullyear.csv', 'wb')\n",
    "#wr = csv.writer(myfile, quoting=csv.QUOTE_ALL)\n",
    "#wr.writerow(fullyear)"
   ]
  },
  {
   "cell_type": "code",
   "execution_count": 29,
   "metadata": {
    "collapsed": true
   },
   "outputs": [],
   "source": [
    "#Now we create a list for the old dates \n",
    "olddatelist = []\n",
    "for olddate in save_Date:\n",
    "    olddatelist.append(olddate)"
   ]
  },
  {
   "cell_type": "code",
   "execution_count": 30,
   "metadata": {
    "collapsed": false
   },
   "outputs": [
    {
     "name": "stdout",
     "output_type": "stream",
     "text": [
      "1365\n"
     ]
    }
   ],
   "source": [
    "print len(olddatelist)"
   ]
  },
  {
   "cell_type": "code",
   "execution_count": 31,
   "metadata": {
    "collapsed": false
   },
   "outputs": [],
   "source": [
    "#Let's set up for another For Loop to run through our old and new lists to \n",
    "#parse the old dates and append the new year\n",
    "neededlist =[]\n",
    "count=0\n",
    "if count <= len(olddatelist):\n",
    "    for field in olddatelist:\n",
    "        loc = find_nth(field, '/', 2)\n",
    "        old =  field[loc:]\n",
    "        splitfield = list(field)\n",
    "        newfield = list(newdatelist[count])\n",
    "        splitfield[loc:] = newfield\n",
    "        field = \"\".join(splitfield)\n",
    "        neededlist.append(field)\n",
    "        count = count + 1"
   ]
  },
  {
   "cell_type": "code",
   "execution_count": 32,
   "metadata": {
    "collapsed": false
   },
   "outputs": [
    {
     "name": "stdout",
     "output_type": "stream",
     "text": [
      "['1/1/1900', '2/1/1900', '3/1/1900', '4/1/1900', '5/1/1900', '6/1/1900', '7/1/1900', '8/1/1900', '9/1/1900', '10/1/1900', '11/1/1900', '12/1/1900', '1/1/1901', '2/1/1901', '3/1/1901', '4/1/1901', '5/1/1901', '6/1/1901', '7/1/1901', '8/1/1901']\n"
     ]
    }
   ],
   "source": [
    "#Let's check our new proper dates!\n",
    "print neededlist[0:20]"
   ]
  },
  {
   "cell_type": "code",
   "execution_count": 33,
   "metadata": {
    "collapsed": false
   },
   "outputs": [
    {
     "name": "stdout",
     "output_type": "stream",
     "text": [
      "      Unnamed: 0    Date  MAverageTemp  MAverageTempUncertainty  \\\n",
      "1576      553217  1/1/00        -2.573                    0.443   \n",
      "1577      553218  2/1/00        -2.912                    0.533   \n",
      "1578      553219  3/1/00         2.636                    0.358   \n",
      "1579      553220  4/1/00         8.091                    0.263   \n",
      "1580      553221  5/1/00        14.317                    0.239   \n",
      "\n",
      "            Country  newdates  \n",
      "1576  United States  1/1/1900  \n",
      "1577  United States  2/1/1900  \n",
      "1578  United States  3/1/1900  \n",
      "1579  United States  4/1/1900  \n",
      "1580  United States  5/1/1900  \n",
      "      Unnamed: 0    Date  MAverageTemp  MAverageTempUncertainty  \\\n",
      "2936      554577  5/1/13        14.073                    0.178   \n",
      "2937      554578  6/1/13        20.198                    0.236   \n",
      "2938      554579  7/1/13        22.074                    0.152   \n",
      "2939      554580  8/1/13        21.168                    0.249   \n",
      "2940      554581  9/1/13        18.273                    1.210   \n",
      "\n",
      "            Country  newdates  \n",
      "2936  United States  5/1/2013  \n",
      "2937  United States  6/1/2013  \n",
      "2938  United States  7/1/2013  \n",
      "2939  United States  8/1/2013  \n",
      "2940  United States  9/1/2013  \n"
     ]
    }
   ],
   "source": [
    "#We take our proper dates list, make them a pandas Series and attach it to our dataframe\n",
    "\n",
    "properdates = pd.Series(neededlist)\n",
    "\n",
    "tempinusa[\"newdates\"] = properdates.values\n",
    "\n",
    "#print our dataframe to enesure our new dates align with the old dates in the dataframe\n",
    "print tempinusa.head()\n",
    "print tempinusa.tail()"
   ]
  },
  {
   "cell_type": "code",
   "execution_count": 34,
   "metadata": {
    "collapsed": false
   },
   "outputs": [],
   "source": [
    "#We save our dataframe as a new, clean csv with the CORRECT dates\n",
    "tempinusa.to_csv('usaclean.csv')"
   ]
  },
  {
   "cell_type": "markdown",
   "metadata": {},
   "source": [
    "### After all of that we can get to solving the problem! "
   ]
  },
  {
   "cell_type": "markdown",
   "metadata": {},
   "source": [
    "## a) "
   ]
  },
  {
   "cell_type": "markdown",
   "metadata": {},
   "source": [
    "Create a new column to display the monthly average land temperatures in Fahrenheit (°F).\n"
   ]
  },
  {
   "cell_type": "code",
   "execution_count": 35,
   "metadata": {
    "collapsed": true
   },
   "outputs": [],
   "source": [
    "#Let's read in our clean data as a pandas frame\n",
    "usa = pd.read_csv('usaclean.csv')"
   ]
  },
  {
   "cell_type": "code",
   "execution_count": 36,
   "metadata": {
    "collapsed": true
   },
   "outputs": [],
   "source": [
    "#We subset the data frame to dates only after 1/1/1990\n",
    "#We transform those date strings into date formats using datetime\n",
    "usa[\"newdate2\"] = usa.newdates.apply(lambda d: datetime.strptime(d, \"%m/%d/%Y\"))\n",
    "after1990 = usa[usa.newdate2 >= \"1/1/1990\"]"
   ]
  },
  {
   "cell_type": "code",
   "execution_count": 37,
   "metadata": {
    "collapsed": true
   },
   "outputs": [],
   "source": [
    "#Create a new series of temperature in Fahrenheit\n",
    "after1990[\"FMAverageTemp\"] = 9.0/5.0*(after1990.MAverageTemp) + 32"
   ]
  },
  {
   "cell_type": "markdown",
   "metadata": {},
   "source": [
    "## b) "
   ]
  },
  {
   "cell_type": "markdown",
   "metadata": {},
   "source": [
    "Calculate average land temperature by year and plot it. The original file has the average land temperature by month. \n"
   ]
  },
  {
   "cell_type": "code",
   "execution_count": 38,
   "metadata": {
    "collapsed": true
   },
   "outputs": [],
   "source": [
    "#In order to group by year we must capture only the year in date\n",
    "after1990['year'] = [t.year for t in after1990.newdate2]"
   ]
  },
  {
   "cell_type": "code",
   "execution_count": 39,
   "metadata": {
    "collapsed": false
   },
   "outputs": [],
   "source": [
    "#Now we use groupby to group by the year column we have create\n",
    "byyear = after1990.groupby('year')"
   ]
  },
  {
   "cell_type": "code",
   "execution_count": 40,
   "metadata": {
    "collapsed": true
   },
   "outputs": [],
   "source": [
    "#Find average temperature by year \n",
    "byyear.avg = byyear['FMAverageTemp'].mean()"
   ]
  },
  {
   "cell_type": "code",
   "execution_count": 41,
   "metadata": {
    "collapsed": false
   },
   "outputs": [
    {
     "data": {
      "text/plain": [
       "<matplotlib.axes._subplots.AxesSubplot at 0x10b828810>"
      ]
     },
     "execution_count": 41,
     "metadata": {},
     "output_type": "execute_result"
    },
    {
     "data": {
      "image/png": "[encoded data removed]",
      "text/plain": [
       "<matplotlib.figure.Figure at 0x1044b4550>"
      ]
     },
     "metadata": {},
     "output_type": "display_data"
    }
   ],
   "source": [
    "#We plot it\n",
    "byyear.avg.plot.line()"
   ]
  },
  {
   "cell_type": "markdown",
   "metadata": {},
   "source": [
    "## c)  "
   ]
  },
  {
   "cell_type": "markdown",
   "metadata": {},
   "source": [
    "Calculate the one year difference of average land temperature by year and provide the maximum difference (value) with corresponding two years.\n"
   ]
  },
  {
   "cell_type": "code",
   "execution_count": 42,
   "metadata": {
    "collapsed": true
   },
   "outputs": [],
   "source": [
    "#To solve this problem we create 2 lists: one of yearly average temperatures and one of years\n",
    "#Appends average temperature in series to list\n",
    "avgtempbyyr=[]\n",
    "for i in byyear.avg:\n",
    "    avgtempbyyr.append(i)"
   ]
  },
  {
   "cell_type": "code",
   "execution_count": 43,
   "metadata": {
    "collapsed": true
   },
   "outputs": [],
   "source": [
    "#Appends year to list\n",
    "yearrange = []\n",
    "for num in range(1990,2014):\n",
    "    yearrange.append(num)"
   ]
  },
  {
   "cell_type": "code",
   "execution_count": 44,
   "metadata": {
    "collapsed": true
   },
   "outputs": [],
   "source": [
    "#We find the difference from year to year using a for loop\n",
    "#list for difference in temperature\n",
    "tempdifference = []\n",
    "#list for difference in year\n",
    "yeardifference = []\n",
    "#set counters\n",
    "maximum=0\n",
    "maxyear=0\n",
    "for i in range(0,23):\n",
    "    dex = i\n",
    "    upone = dex + 1\n",
    "    diff = avgtempbyyr[upone] - avgtempbyyr[dex]\n",
    "    if abs(diff) > maximum:\n",
    "        maximum=diff #We find the maximum difference\n",
    "        maxyear = yrdiff = str(yearrange[upone])+\"-\"+str(yearrange[dex]) #Which year did the max difference occur?\n",
    "    tempdifference.append(diff)\n",
    "    yrdiff = str(yearrange[upone])+\"-\"+str(yearrange[dex])\n",
    "    yeardifference.append(yrdiff)"
   ]
  },
  {
   "cell_type": "code",
   "execution_count": 45,
   "metadata": {
    "collapsed": false
   },
   "outputs": [
    {
     "name": "stdout",
     "output_type": "stream",
     "text": [
      "The maximum difference of:  1.86485 degrees occurs in date range:  2013-2012\n"
     ]
    }
   ],
   "source": [
    "#Print results\n",
    "print \"The maximum difference of: \",maximum,\"degrees occurs in date range: \",maxyear"
   ]
  },
  {
   "cell_type": "code",
   "execution_count": 46,
   "metadata": {
    "collapsed": false
   },
   "outputs": [
    {
     "name": "stdout",
     "output_type": "stream",
     "text": [
      "[['1991-1990' '-0.05025']\n",
      " ['1992-1991' '-0.7872']\n",
      " ['1993-1992' '-0.34035']\n",
      " ['1994-1993' '0.72555']\n",
      " ['1995-1994' '0.1092']\n",
      " ['1996-1995' '-1.038']\n",
      " ['1997-1996' '0.75345']\n",
      " ['1998-1997' '1.74285']\n",
      " ['1999-1998' '-1.0335']\n",
      " ['2000-1999' '0.14895']\n",
      " ['2001-2000' '0.2445']\n",
      " ['2002-2001' '0.05505']\n",
      " ['2003-2002' '-0.10995']\n",
      " ['2004-2003' '-0.15765']\n",
      " ['2005-2004' '0.4053']\n",
      " ['2006-2005' '0.1473']\n",
      " ['2007-2006' '-0.2466']\n",
      " ['2008-2007' '-1.59495']\n",
      " ['2009-2008' '0.3342']\n",
      " ['2010-2009' '0.6633']\n",
      " ['2011-2010' '0.0798']\n",
      " ['2012-2011' '1.2801']\n",
      " ['2013-2012' '1.86485']]\n"
     ]
    }
   ],
   "source": [
    "#Let's list out all of the differences in years \n",
    "import numpy as np\n",
    "byyeartempdifference = np.column_stack((yeardifference,tempdifference))\n",
    "print byyeartempdifference"
   ]
  },
  {
   "cell_type": "markdown",
   "metadata": {},
   "source": [
    "# (iii)"
   ]
  },
  {
   "cell_type": "markdown",
   "metadata": {},
   "source": [
    "## a)"
   ]
  },
  {
   "cell_type": "markdown",
   "metadata": {},
   "source": [
    "Find the difference between the maximum and the minimum temperatures for each major city and report/visualize top 20 cities with maximum differences for the period since 1900. \n"
   ]
  },
  {
   "cell_type": "code",
   "execution_count": 47,
   "metadata": {
    "collapsed": true
   },
   "outputs": [],
   "source": [
    "#Code for City Data is similar to Country data\n",
    "#Read in City Temp file as pandas frame\n",
    "citytemp=pd.read_csv(\"CityTemp.csv\")"
   ]
  },
  {
   "cell_type": "code",
   "execution_count": 48,
   "metadata": {
    "collapsed": true
   },
   "outputs": [],
   "source": [
    "#We then cut out the dates before the 20th century\n",
    "citytemp2=citytemp[citytemp.Date.str.len()<=8]"
   ]
  },
  {
   "cell_type": "code",
   "execution_count": 49,
   "metadata": {
    "collapsed": true
   },
   "outputs": [],
   "source": [
    "#Group data by city \n",
    "citytempgroup=citytemp2.groupby(\"City\")"
   ]
  },
  {
   "cell_type": "code",
   "execution_count": 50,
   "metadata": {
    "collapsed": false
   },
   "outputs": [],
   "source": [
    "#Calculate the difference in max and min average temperature by city \n",
    "citytempgroup.tempdiff = citytempgroup['MAverageTemp'].max() - citytempgroup['MAverageTemp'].min()\n"
   ]
  },
  {
   "cell_type": "code",
   "execution_count": 51,
   "metadata": {
    "collapsed": true
   },
   "outputs": [],
   "source": [
    "#Order data descending\n",
    "citytempgroup.tempdiff = citytempgroup.tempdiff.order(ascending=False)\n"
   ]
  },
  {
   "cell_type": "code",
   "execution_count": 52,
   "metadata": {
    "collapsed": true
   },
   "outputs": [],
   "source": [
    "#drop NAs\n",
    "citytempgroup.tempdiff = citytempgroup.tempdiff.dropna()"
   ]
  },
  {
   "cell_type": "code",
   "execution_count": 53,
   "metadata": {
    "collapsed": true
   },
   "outputs": [],
   "source": [
    "#get top 20 differences in max and min temperatures by city\n",
    "citytop20 = citytempgroup.tempdiff[0:20]"
   ]
  },
  {
   "cell_type": "code",
   "execution_count": 54,
   "metadata": {
    "collapsed": false,
    "scrolled": true
   },
   "outputs": [
    {
     "data": {
      "text/plain": [
       "<matplotlib.axes._subplots.AxesSubplot at 0x10d1a2490>"
      ]
     },
     "execution_count": 54,
     "metadata": {},
     "output_type": "execute_result"
    },
    {
     "data": {
      "image/png": "[encoded data removed]",
      "text/plain": [
       "<matplotlib.figure.Figure at 0x10446b090>"
      ]
     },
     "metadata": {},
     "output_type": "display_data"
    }
   ],
   "source": [
    "#plot differences\n",
    "citytop20.plot.bar(color = 'pink')"
   ]
  },
  {
   "cell_type": "markdown",
   "metadata": {},
   "source": [
    "## b)"
   ]
  },
  {
   "cell_type": "markdown",
   "metadata": {},
   "source": [
    "Compare the two graphs in (i) and (iii) and comment on your comparison\n"
   ]
  },
  {
   "cell_type": "code",
   "execution_count": 55,
   "metadata": {
    "collapsed": false
   },
   "outputs": [
    {
     "data": {
      "text/plain": [
       "<matplotlib.axes._subplots.AxesSubplot at 0x10c1404d0>"
      ]
     },
     "execution_count": 55,
     "metadata": {},
     "output_type": "execute_result"
    },
    {
     "data": {
      "image/png": "[encoded data removed]",
      "text/plain": [
       "<matplotlib.figure.Figure at 0x104458a50>"
      ]
     },
     "metadata": {},
     "output_type": "display_data"
    }
   ],
   "source": [
    "#Plots shown together\n",
    "top20.plot.bar( color= 'purple')"
   ]
  },
  {
   "cell_type": "code",
   "execution_count": 56,
   "metadata": {
    "collapsed": false
   },
   "outputs": [
    {
     "data": {
      "text/plain": [
       "<matplotlib.axes._subplots.AxesSubplot at 0x10befe650>"
      ]
     },
     "execution_count": 56,
     "metadata": {},
     "output_type": "execute_result"
    },
    {
     "data": {
      "image/png": "[encoded data removed]",
      "text/plain": [
       "<matplotlib.figure.Figure at 0x104458110>"
      ]
     },
     "metadata": {},
     "output_type": "display_data"
    }
   ],
   "source": [
    "citytop20.plot.bar(color = 'pink')"
   ]
  },
  {
   "cell_type": "markdown",
   "metadata": {
    "collapsed": true
   },
   "source": [
    "It appears that the differences in average temperatures for cities are on average higher than the differences in average temperatures for whole cities. This makes sense as cities are smaller data points. There are some cities that also belong to the top 20 countries. For example, Moscow, Saint Petersburg, Kiev, and Toronto. However, there are also cities with to 20 temperature differences that do not belong to the top 20 countries. Examples are New York, Chicago, and Peking(China). It appears that the cities and countries that have the largest difference in average temperatures are those that can get very very cold in the winter. "
   ]
  },
  {
   "cell_type": "markdown",
   "metadata": {},
   "source": [
    "# End Question 4"
   ]
  }
 ],
 "metadata": {
  "kernelspec": {
   "display_name": "Python 2",
   "language": "python",
   "name": "python2"
  },
  "language_info": {
   "codemirror_mode": {
    "name": "ipython",
    "version": 2
   },
   "file_extension": ".py",
   "mimetype": "text/x-python",
   "name": "python",
   "nbconvert_exporter": "python",
   "pygments_lexer": "ipython2",
   "version": "2.7.11"
  }
 },
 "nbformat": 4,
 "nbformat_minor": 0
}
